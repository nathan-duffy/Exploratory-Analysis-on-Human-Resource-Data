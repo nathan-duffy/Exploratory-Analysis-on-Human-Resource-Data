{
 "cells": [
  {
   "cell_type": "markdown",
   "metadata": {},
   "source": [
    "# Academics Applicant Analysis"
   ]
  },
  {
   "cell_type": "code",
   "execution_count": 2,
   "metadata": {},
   "outputs": [],
   "source": [
    "from sklearn import linear_model\n",
    "from sklearn.feature_extraction.text import CountVectorizer \n",
    "from sklearn.model_selection import train_test_split, cross_val_score\n",
    "from sklearn.metrics import accuracy_score\n",
    "from scipy.sparse import hstack\n",
    "import numpy as np\n",
    "import pandas as pd\n",
    "import matplotlib.pyplot as plt\n",
    "import seaborn as sns\n",
    "import time\n",
    "import datetime\n",
    "sns.set()"
   ]
  },
  {
   "cell_type": "markdown",
   "metadata": {},
   "source": [
    "## Introduction:"
   ]
  },
  {
   "cell_type": "markdown",
   "metadata": {},
   "source": [
    "**We located a company in South Denver that specializes in creating training software curriculum for professionals in academia. They are medium-sized and currently experiencing rapid growth. Their HR Manager gave us a dataset of applicant tracking data for the last ~15 months.  Our stakeholder originally gave us this dataset because she wanted to see what interesting trends and patterns we would find.  She had two specific questions of the information which I will list, but overall wanted to see what we would come up with in our analysis.**\n",
    "\n",
    "* **Stakeholder Question:** We value doctoral candidates highly in the interview process and are wondering why so many of them are falling through the cracks. "
   ]
  },
  {
   "cell_type": "markdown",
   "metadata": {},
   "source": [
    "## Sections:"
   ]
  },
  {
   "cell_type": "markdown",
   "metadata": {},
   "source": [
    "<br> **1: <a href=#1>What is the distribution of education levels applying to Academics?</a>\n",
    "<br> 2: <a href=#2>Visualizing current status based on education level using a stacked bar chart.</a>\n",
    "<br> 3: <a href=#3>Why are doctoral candidates not getting hired, what does the data say about this?</a>\n",
    "<br> 4: <a href=#4>What is the most popular position according to applicant numbers, and which one has the highest desired salary?</a>\n",
    "<br> 5: <a href=#5>What are the national salary averages of job titles that Academics currently employs?</a>\n",
    "<br> 6: <a href=#6>Is Academics paying above or below average compared to other cities represented in our new dataset?</a>\n",
    "<br> 7: <a href=#7>When are there spikes in applications?</a>\n",
    "<br> 8: <a href=#8>What sort of candidates are getting hired?</a>\n",
    "<br> 9: <a href=#9>Attempting to predict position based on education level and desired salary.</a>**"
   ]
  },
  {
   "cell_type": "markdown",
   "metadata": {},
   "source": [
    "## Data Cleaning:"
   ]
  },
  {
   "cell_type": "code",
   "execution_count": null,
   "metadata": {},
   "outputs": [],
   "source": [
    "df = pd.read_csv('data1.csv',dtype={'Desired Salary': int})\n",
    "df.tail(10)"
   ]
  },
  {
   "cell_type": "markdown",
   "metadata": {},
   "source": [
    "#### Size of our Dataset"
   ]
  },
  {
   "cell_type": "code",
   "execution_count": 6,
   "metadata": {},
   "outputs": [
    {
     "data": {
      "text/plain": [
       "1146"
      ]
     },
     "execution_count": 6,
     "metadata": {},
     "output_type": "execute_result"
    }
   ],
   "source": [
    "len(df)"
   ]
  },
  {
   "cell_type": "markdown",
   "metadata": {},
   "source": [
    "#### Dropping unneeded columns"
   ]
  },
  {
   "cell_type": "code",
   "execution_count": 7,
   "metadata": {},
   "outputs": [],
   "source": [
    "df = df.drop(['Department','Location','Employement Type','Source'],axis=1)"
   ]
  },
  {
   "cell_type": "markdown",
   "metadata": {},
   "source": [
    "#### Regrouping different subcategories to make the data easier to interpret"
   ]
  },
  {
   "cell_type": "code",
   "execution_count": 8,
   "metadata": {},
   "outputs": [],
   "source": [
    "df['Current Status'] = df['Current Status'].replace(['Meets Qualifications - Others more Qualified'],\n",
    "                                              ['Others more Qualified'])\n",
    "df['Current Status'] = df['Current Status'].replace([\"Doesn't Meet Minimum Qualifications\"], \n",
    "                                                        ['Not Qualified'])\n",
    "df['Current Status'] = df['Current Status'].replace(['Hired Another Candidate'],\n",
    "                                                        ['Others more Qualified'])"
   ]
  },
  {
   "cell_type": "code",
   "execution_count": 9,
   "metadata": {},
   "outputs": [],
   "source": [
    "df['Education Level'] = df['Education Level'].replace(['College - Bachelor of Arts'],\n",
    "                                                        [\"Bachelor's Degree\"])\n",
    "df['Education Level'] = df['Education Level'].replace(['College - Bachelor of Science'],\n",
    "                                                        [\"Bachelor's Degree\"])\n",
    "df['Education Level'] = df['Education Level'].replace(['College - Master of Arts'],\n",
    "                                                        [\"Master's Degree\"])\n",
    "df['Education Level'] = df['Education Level'].replace(['College - Master of Science'],\n",
    "                                                        [\"Master's Degree\"])\n",
    "df['Education Level'] = df['Education Level'].replace(['College - Doctorate'],\n",
    "                                                        [\"Doctoral Degree\"])\n",
    "df['Education Level'] = df['Education Level'].replace(['College - Master of Business Administration'],\n",
    "                                                        [\"Master's Degree\"])\n",
    "df['Education Level'] = df['Education Level'].replace(['College - Associates'],\n",
    "                                                        [\"Associate's Degree\"])\n",
    "df['Education Level'] = df['Education Level'].replace(['GED or Equivalent'],\n",
    "                                                        [\"High School\"])\n",
    "df['Education Level'] = df['Education Level'].replace(['Medical Doctor'],\n",
    "                                                        [\"Doctoral Degree\"])\n",
    "df['Education Level'] = df['Education Level'].replace(['College - Bachelor of Fine Arts'],\n",
    "                                                        [\"Bachelor's Degree\"])\n",
    "df['Education Level'] = df['Education Level'].replace(['College - Master of Fine Arts'],\n",
    "                                                        [\"Master's Degree\"])\n",
    "df['Education Level'] = df['Education Level'].replace(['Other'],\n",
    "                                                        [\"Some College\"])"
   ]
  },
  {
   "cell_type": "markdown",
   "metadata": {},
   "source": [
    "#### Initially the Application Date column is a string, not a date time value.  To convert this we use panda's built in feature: pd.to_datetime. Next, we strip off the exact time associated with the value to simplify the column."
   ]
  },
  {
   "cell_type": "code",
   "execution_count": 10,
   "metadata": {},
   "outputs": [
    {
     "data": {
      "text/plain": [
       "'12/28/2017 1:44:50 AM MST'"
      ]
     },
     "execution_count": 10,
     "metadata": {},
     "output_type": "execute_result"
    }
   ],
   "source": [
    "df.loc[1]['Application Date']"
   ]
  },
  {
   "cell_type": "code",
   "execution_count": 11,
   "metadata": {},
   "outputs": [],
   "source": [
    "df['Application Date'] = df['Application Date'].map(lambda x: str(x)[:10])"
   ]
  },
  {
   "cell_type": "code",
   "execution_count": 12,
   "metadata": {},
   "outputs": [],
   "source": [
    "df['Application Date'] = pd.to_datetime(df[\"Application Date\"])"
   ]
  },
  {
   "cell_type": "code",
   "execution_count": 13,
   "metadata": {},
   "outputs": [
    {
     "data": {
      "text/plain": [
       "Timestamp('2017-12-28 00:00:00')"
      ]
     },
     "execution_count": 13,
     "metadata": {},
     "output_type": "execute_result"
    }
   ],
   "source": [
    "df.loc[1]['Application Date']"
   ]
  },
  {
   "cell_type": "markdown",
   "metadata": {},
   "source": [
    "#### Cleaned Data Frame"
   ]
  },
  {
   "cell_type": "code",
   "execution_count": 14,
   "metadata": {},
   "outputs": [
    {
     "data": {
      "text/html": [
       "<div>\n",
       "<style scoped>\n",
       "    .dataframe tbody tr th:only-of-type {\n",
       "        vertical-align: middle;\n",
       "    }\n",
       "\n",
       "    .dataframe tbody tr th {\n",
       "        vertical-align: top;\n",
       "    }\n",
       "\n",
       "    .dataframe thead th {\n",
       "        text-align: right;\n",
       "    }\n",
       "</style>\n",
       "<table border=\"1\" class=\"dataframe\">\n",
       "  <thead>\n",
       "    <tr style=\"text-align: right;\">\n",
       "      <th></th>\n",
       "      <th>Application Date</th>\n",
       "      <th>First Name</th>\n",
       "      <th>Last Name</th>\n",
       "      <th>Position</th>\n",
       "      <th>Current Status</th>\n",
       "      <th>Education Level</th>\n",
       "      <th>Desired Salary</th>\n",
       "    </tr>\n",
       "  </thead>\n",
       "  <tbody>\n",
       "    <tr>\n",
       "      <th>1136</th>\n",
       "      <td>2018-03-27</td>\n",
       "      <td>Kyra</td>\n",
       "      <td>Mehaffey</td>\n",
       "      <td>Program Manager</td>\n",
       "      <td>Not a Fit</td>\n",
       "      <td>NaN</td>\n",
       "      <td>50000</td>\n",
       "    </tr>\n",
       "    <tr>\n",
       "      <th>1137</th>\n",
       "      <td>2018-03-26</td>\n",
       "      <td>Anthea</td>\n",
       "      <td>Gerberg</td>\n",
       "      <td>Sales Consultant</td>\n",
       "      <td>Not a Fit</td>\n",
       "      <td>NaN</td>\n",
       "      <td>84000</td>\n",
       "    </tr>\n",
       "    <tr>\n",
       "      <th>1138</th>\n",
       "      <td>2018-04-01</td>\n",
       "      <td>Dianne</td>\n",
       "      <td>Kelley</td>\n",
       "      <td>Sales Consultant</td>\n",
       "      <td>Candidate withdrawal</td>\n",
       "      <td>NaN</td>\n",
       "      <td>115000</td>\n",
       "    </tr>\n",
       "    <tr>\n",
       "      <th>1139</th>\n",
       "      <td>2018-05-18</td>\n",
       "      <td>Larry</td>\n",
       "      <td>Letsinger</td>\n",
       "      <td>Sales Consultant</td>\n",
       "      <td>Not a Fit</td>\n",
       "      <td>NaN</td>\n",
       "      <td>90000</td>\n",
       "    </tr>\n",
       "    <tr>\n",
       "      <th>1140</th>\n",
       "      <td>2017-12-20</td>\n",
       "      <td>Ellie G</td>\n",
       "      <td>Miller</td>\n",
       "      <td>Research Analyst</td>\n",
       "      <td>Not a Fit</td>\n",
       "      <td>Bachelor's Degree</td>\n",
       "      <td>60000</td>\n",
       "    </tr>\n",
       "    <tr>\n",
       "      <th>1141</th>\n",
       "      <td>2018-08-22</td>\n",
       "      <td>Anna</td>\n",
       "      <td>Floyd</td>\n",
       "      <td>Research Analyst</td>\n",
       "      <td>Not Qualified</td>\n",
       "      <td>Doctoral Degree</td>\n",
       "      <td>75000</td>\n",
       "    </tr>\n",
       "    <tr>\n",
       "      <th>1142</th>\n",
       "      <td>2018-06-14</td>\n",
       "      <td>Daniel</td>\n",
       "      <td>Maurer</td>\n",
       "      <td>Research Analyst</td>\n",
       "      <td>Not Qualified</td>\n",
       "      <td>Bachelor's Degree</td>\n",
       "      <td>40000</td>\n",
       "    </tr>\n",
       "    <tr>\n",
       "      <th>1143</th>\n",
       "      <td>2018-03-06</td>\n",
       "      <td>Jodi Warren,</td>\n",
       "      <td>M.Ed.</td>\n",
       "      <td>Program Manager</td>\n",
       "      <td>Not a Fit</td>\n",
       "      <td>NaN</td>\n",
       "      <td>63000</td>\n",
       "    </tr>\n",
       "    <tr>\n",
       "      <th>1144</th>\n",
       "      <td>2018-04-09</td>\n",
       "      <td>Malorie</td>\n",
       "      <td>Williamson</td>\n",
       "      <td>Journalist</td>\n",
       "      <td>Not Qualified</td>\n",
       "      <td>Bachelor's Degree</td>\n",
       "      <td>30000</td>\n",
       "    </tr>\n",
       "    <tr>\n",
       "      <th>1145</th>\n",
       "      <td>2017-11-04</td>\n",
       "      <td>Drew</td>\n",
       "      <td>Burton</td>\n",
       "      <td>Research Analyst</td>\n",
       "      <td>Not Qualified</td>\n",
       "      <td>Bachelor's Degree</td>\n",
       "      <td>50000</td>\n",
       "    </tr>\n",
       "  </tbody>\n",
       "</table>\n",
       "</div>"
      ],
      "text/plain": [
       "     Application Date    First Name   Last Name          Position  \\\n",
       "1136       2018-03-27          Kyra    Mehaffey   Program Manager   \n",
       "1137       2018-03-26        Anthea     Gerberg  Sales Consultant   \n",
       "1138       2018-04-01        Dianne      Kelley  Sales Consultant   \n",
       "1139       2018-05-18         Larry   Letsinger  Sales Consultant   \n",
       "1140       2017-12-20       Ellie G      Miller  Research Analyst   \n",
       "1141       2018-08-22          Anna       Floyd  Research Analyst   \n",
       "1142       2018-06-14        Daniel      Maurer  Research Analyst   \n",
       "1143       2018-03-06  Jodi Warren,       M.Ed.   Program Manager   \n",
       "1144       2018-04-09       Malorie  Williamson        Journalist   \n",
       "1145       2017-11-04          Drew      Burton  Research Analyst   \n",
       "\n",
       "            Current Status    Education Level  Desired Salary  \n",
       "1136             Not a Fit                NaN           50000  \n",
       "1137             Not a Fit                NaN           84000  \n",
       "1138  Candidate withdrawal                NaN          115000  \n",
       "1139             Not a Fit                NaN           90000  \n",
       "1140             Not a Fit  Bachelor's Degree           60000  \n",
       "1141         Not Qualified    Doctoral Degree           75000  \n",
       "1142         Not Qualified  Bachelor's Degree           40000  \n",
       "1143             Not a Fit                NaN           63000  \n",
       "1144         Not Qualified  Bachelor's Degree           30000  \n",
       "1145         Not Qualified  Bachelor's Degree           50000  "
      ]
     },
     "execution_count": 14,
     "metadata": {},
     "output_type": "execute_result"
    }
   ],
   "source": [
    "df.tail(10)"
   ]
  },
  {
   "cell_type": "markdown",
   "metadata": {},
   "source": [
    "<a name=1 />"
   ]
  },
  {
   "cell_type": "markdown",
   "metadata": {},
   "source": [
    "## 1: What does the distribution of education levels applying to Academics look like?"
   ]
  },
  {
   "cell_type": "code",
   "execution_count": 15,
   "metadata": {},
   "outputs": [],
   "source": [
    "education_counts = df['Education Level'].value_counts()"
   ]
  },
  {
   "cell_type": "code",
   "execution_count": 16,
   "metadata": {},
   "outputs": [
    {
     "data": {
      "text/html": [
       "<div>\n",
       "<style scoped>\n",
       "    .dataframe tbody tr th:only-of-type {\n",
       "        vertical-align: middle;\n",
       "    }\n",
       "\n",
       "    .dataframe tbody tr th {\n",
       "        vertical-align: top;\n",
       "    }\n",
       "\n",
       "    .dataframe thead th {\n",
       "        text-align: right;\n",
       "    }\n",
       "</style>\n",
       "<table border=\"1\" class=\"dataframe\">\n",
       "  <thead>\n",
       "    <tr style=\"text-align: right;\">\n",
       "      <th></th>\n",
       "      <th>Education Level</th>\n",
       "      <th>Counts</th>\n",
       "    </tr>\n",
       "  </thead>\n",
       "  <tbody>\n",
       "    <tr>\n",
       "      <th>0</th>\n",
       "      <td>Bachelor's Degree</td>\n",
       "      <td>326</td>\n",
       "    </tr>\n",
       "    <tr>\n",
       "      <th>1</th>\n",
       "      <td>Master's Degree</td>\n",
       "      <td>307</td>\n",
       "    </tr>\n",
       "    <tr>\n",
       "      <th>2</th>\n",
       "      <td>Doctoral Degree</td>\n",
       "      <td>75</td>\n",
       "    </tr>\n",
       "    <tr>\n",
       "      <th>3</th>\n",
       "      <td>Some College</td>\n",
       "      <td>68</td>\n",
       "    </tr>\n",
       "    <tr>\n",
       "      <th>4</th>\n",
       "      <td>Associate's Degree</td>\n",
       "      <td>24</td>\n",
       "    </tr>\n",
       "    <tr>\n",
       "      <th>5</th>\n",
       "      <td>High School</td>\n",
       "      <td>17</td>\n",
       "    </tr>\n",
       "  </tbody>\n",
       "</table>\n",
       "</div>"
      ],
      "text/plain": [
       "      Education Level  Counts\n",
       "0   Bachelor's Degree     326\n",
       "1     Master's Degree     307\n",
       "2     Doctoral Degree      75\n",
       "3        Some College      68\n",
       "4  Associate's Degree      24\n",
       "5         High School      17"
      ]
     },
     "execution_count": 16,
     "metadata": {},
     "output_type": "execute_result"
    }
   ],
   "source": [
    "ecounts_df = pd.DataFrame(education_counts.reset_index())\n",
    "ecounts_df.columns = ['Education Level', 'Counts']\n",
    "ecounts_df"
   ]
  },
  {
   "cell_type": "code",
   "execution_count": 17,
   "metadata": {},
   "outputs": [
    {
     "data": {
      "image/png": "[encoded data removed]",
      "text/plain": [
       "<Figure size 936x360 with 1 Axes>"
      ]
     },
     "metadata": {
      "needs_background": "light"
     },
     "output_type": "display_data"
    }
   ],
   "source": [
    "plt.figure(figsize=(13,5))\n",
    "sns.barplot(education_counts.index, education_counts.values, alpha=0.8)\n",
    "plt.xticks(fontsize=10)\n",
    "plt.yticks(fontsize=10)\n",
    "plt.title('Distribution of Education Levels',fontweight=\"bold\", size=18)\n",
    "plt.ylabel('Counts', fontsize = 12, fontweight=\"bold\")\n",
    "plt.xlabel('Education Level', fontsize = 12, fontweight=\"bold\")\n",
    "plt.show()"
   ]
  },
  {
   "cell_type": "markdown",
   "metadata": {},
   "source": [
    "**From this graph, it may look like the reason Doctoral candidates are not getting hired is because of the sheer number of Bachelor/Master candidates. We were told that Doctoral candidates are preferred and that education is something that is highly regarded at Academics.**"
   ]
  },
  {
   "cell_type": "markdown",
   "metadata": {},
   "source": [
    "<a name=2 />"
   ]
  },
  {
   "cell_type": "markdown",
   "metadata": {},
   "source": [
    "## 2: Visualizing current status based on education level using a stacked bar chart."
   ]
  },
  {
   "cell_type": "code",
   "execution_count": 18,
   "metadata": {},
   "outputs": [
    {
     "data": {
      "text/html": [
       "<div>\n",
       "<style scoped>\n",
       "    .dataframe tbody tr th:only-of-type {\n",
       "        vertical-align: middle;\n",
       "    }\n",
       "\n",
       "    .dataframe tbody tr th {\n",
       "        vertical-align: top;\n",
       "    }\n",
       "\n",
       "    .dataframe thead th {\n",
       "        text-align: right;\n",
       "    }\n",
       "</style>\n",
       "<table border=\"1\" class=\"dataframe\">\n",
       "  <thead>\n",
       "    <tr style=\"text-align: right;\">\n",
       "      <th>Current Status</th>\n",
       "      <th>Candidate withdrawal</th>\n",
       "      <th>Declined Offer</th>\n",
       "      <th>Hired</th>\n",
       "      <th>Hired Elsewhere</th>\n",
       "      <th>Hired another candidate</th>\n",
       "      <th>Not Qualified</th>\n",
       "      <th>Not a Fit</th>\n",
       "      <th>Others more Qualified</th>\n",
       "    </tr>\n",
       "    <tr>\n",
       "      <th>Education Level</th>\n",
       "      <th></th>\n",
       "      <th></th>\n",
       "      <th></th>\n",
       "      <th></th>\n",
       "      <th></th>\n",
       "      <th></th>\n",
       "      <th></th>\n",
       "      <th></th>\n",
       "    </tr>\n",
       "  </thead>\n",
       "  <tbody>\n",
       "    <tr>\n",
       "      <th>Associate's Degree</th>\n",
       "      <td>6</td>\n",
       "      <td>0</td>\n",
       "      <td>0</td>\n",
       "      <td>0</td>\n",
       "      <td>1</td>\n",
       "      <td>12</td>\n",
       "      <td>5</td>\n",
       "      <td>0</td>\n",
       "    </tr>\n",
       "    <tr>\n",
       "      <th>Bachelor's Degree</th>\n",
       "      <td>12</td>\n",
       "      <td>0</td>\n",
       "      <td>4</td>\n",
       "      <td>4</td>\n",
       "      <td>13</td>\n",
       "      <td>184</td>\n",
       "      <td>109</td>\n",
       "      <td>0</td>\n",
       "    </tr>\n",
       "    <tr>\n",
       "      <th>Doctoral Degree</th>\n",
       "      <td>1</td>\n",
       "      <td>1</td>\n",
       "      <td>0</td>\n",
       "      <td>0</td>\n",
       "      <td>0</td>\n",
       "      <td>25</td>\n",
       "      <td>48</td>\n",
       "      <td>0</td>\n",
       "    </tr>\n",
       "    <tr>\n",
       "      <th>High School</th>\n",
       "      <td>5</td>\n",
       "      <td>0</td>\n",
       "      <td>0</td>\n",
       "      <td>0</td>\n",
       "      <td>0</td>\n",
       "      <td>7</td>\n",
       "      <td>5</td>\n",
       "      <td>0</td>\n",
       "    </tr>\n",
       "    <tr>\n",
       "      <th>Master's Degree</th>\n",
       "      <td>10</td>\n",
       "      <td>0</td>\n",
       "      <td>1</td>\n",
       "      <td>2</td>\n",
       "      <td>8</td>\n",
       "      <td>136</td>\n",
       "      <td>149</td>\n",
       "      <td>1</td>\n",
       "    </tr>\n",
       "    <tr>\n",
       "      <th>Some College</th>\n",
       "      <td>13</td>\n",
       "      <td>1</td>\n",
       "      <td>1</td>\n",
       "      <td>0</td>\n",
       "      <td>0</td>\n",
       "      <td>35</td>\n",
       "      <td>18</td>\n",
       "      <td>0</td>\n",
       "    </tr>\n",
       "  </tbody>\n",
       "</table>\n",
       "</div>"
      ],
      "text/plain": [
       "Current Status      Candidate withdrawal  Declined Offer  Hired  \\\n",
       "Education Level                                                   \n",
       "Associate's Degree                     6               0      0   \n",
       "Bachelor's Degree                     12               0      4   \n",
       "Doctoral Degree                        1               1      0   \n",
       "High School                            5               0      0   \n",
       "Master's Degree                       10               0      1   \n",
       "Some College                          13               1      1   \n",
       "\n",
       "Current Status      Hired Elsewhere  Hired another candidate  Not Qualified  \\\n",
       "Education Level                                                               \n",
       "Associate's Degree                0                        1             12   \n",
       "Bachelor's Degree                 4                       13            184   \n",
       "Doctoral Degree                   0                        0             25   \n",
       "High School                       0                        0              7   \n",
       "Master's Degree                   2                        8            136   \n",
       "Some College                      0                        0             35   \n",
       "\n",
       "Current Status      Not a Fit  Others more Qualified  \n",
       "Education Level                                       \n",
       "Associate's Degree          5                      0  \n",
       "Bachelor's Degree         109                      0  \n",
       "Doctoral Degree            48                      0  \n",
       "High School                 5                      0  \n",
       "Master's Degree           149                      1  \n",
       "Some College               18                      0  "
      ]
     },
     "execution_count": 18,
     "metadata": {},
     "output_type": "execute_result"
    }
   ],
   "source": [
    "crosstab = pd.crosstab(index=df['Education Level'], columns=df['Current Status'])\n",
    "crosstab"
   ]
  },
  {
   "cell_type": "code",
   "execution_count": 19,
   "metadata": {},
   "outputs": [
    {
     "data": {
      "image/png": "[encoded data removed]",
      "text/plain": [
       "<Figure size 576x576 with 1 Axes>"
      ]
     },
     "metadata": {
      "needs_background": "light"
     },
     "output_type": "display_data"
    }
   ],
   "source": [
    "pal = sns.color_palette(\"Set1\", n_colors=8, desat=.5)\n",
    "crosstab.plot(kind=\"bar\", figsize=(8,8), stacked=True,color=pal)\n",
    "plt.yticks(fontsize=10)\n",
    "plt.title('Current Status and Education Level',fontweight=\"bold\", size=18)\n",
    "plt.ylabel('Counts', fontsize = 15, fontweight=\"bold\")\n",
    "plt.xlabel('Education Level', fontsize = 15, fontweight=\"bold\")\n",
    "plt.show()"
   ]
  },
  {
   "cell_type": "markdown",
   "metadata": {},
   "source": [
    "**Pretty much a distribution that you would expect from the current status of these education levels.  One thing to note though is how more than half of the doctoral candidates are categorized as 'not a fit'; something that is not true of other education levels.**"
   ]
  },
  {
   "cell_type": "markdown",
   "metadata": {},
   "source": [
    "<a name=3 />"
   ]
  },
  {
   "cell_type": "markdown",
   "metadata": {},
   "source": [
    "## 3: Why are doctoral candidates not getting hired, what does the data say about this?"
   ]
  },
  {
   "cell_type": "markdown",
   "metadata": {},
   "source": [
    "**This was one of the specific questions that our stakeholder had of our dataset.  We attempted to analyze the data on these candidates to see why they were slipping through the cracks in the interview process.**"
   ]
  },
  {
   "cell_type": "code",
   "execution_count": 20,
   "metadata": {},
   "outputs": [
    {
     "data": {
      "text/html": [
       "<div>\n",
       "<style scoped>\n",
       "    .dataframe tbody tr th:only-of-type {\n",
       "        vertical-align: middle;\n",
       "    }\n",
       "\n",
       "    .dataframe tbody tr th {\n",
       "        vertical-align: top;\n",
       "    }\n",
       "\n",
       "    .dataframe thead th {\n",
       "        text-align: right;\n",
       "    }\n",
       "</style>\n",
       "<table border=\"1\" class=\"dataframe\">\n",
       "  <thead>\n",
       "    <tr style=\"text-align: right;\">\n",
       "      <th></th>\n",
       "      <th>Application Date</th>\n",
       "      <th>First Name</th>\n",
       "      <th>Last Name</th>\n",
       "      <th>Position</th>\n",
       "      <th>Current Status</th>\n",
       "      <th>Education Level</th>\n",
       "      <th>Desired Salary</th>\n",
       "    </tr>\n",
       "  </thead>\n",
       "  <tbody>\n",
       "    <tr>\n",
       "      <th>173</th>\n",
       "      <td>2018-01-31</td>\n",
       "      <td>Ryan</td>\n",
       "      <td>McCormick</td>\n",
       "      <td>Research Analyst</td>\n",
       "      <td>Not Qualified</td>\n",
       "      <td>Doctoral Degree</td>\n",
       "      <td>40000</td>\n",
       "    </tr>\n",
       "    <tr>\n",
       "      <th>182</th>\n",
       "      <td>2017-09-13</td>\n",
       "      <td>Jenaya</td>\n",
       "      <td>Perdue</td>\n",
       "      <td>Research Analyst</td>\n",
       "      <td>Not a Fit</td>\n",
       "      <td>Doctoral Degree</td>\n",
       "      <td>40000</td>\n",
       "    </tr>\n",
       "    <tr>\n",
       "      <th>222</th>\n",
       "      <td>2017-09-30</td>\n",
       "      <td>Jenaya</td>\n",
       "      <td>Perdue</td>\n",
       "      <td>Instructional Designer</td>\n",
       "      <td>Not Qualified</td>\n",
       "      <td>Doctoral Degree</td>\n",
       "      <td>45000</td>\n",
       "    </tr>\n",
       "    <tr>\n",
       "      <th>232</th>\n",
       "      <td>2018-07-17</td>\n",
       "      <td>James</td>\n",
       "      <td>Zimmermann</td>\n",
       "      <td>Research Analyst</td>\n",
       "      <td>Not a Fit</td>\n",
       "      <td>Doctoral Degree</td>\n",
       "      <td>45000</td>\n",
       "    </tr>\n",
       "    <tr>\n",
       "      <th>291</th>\n",
       "      <td>2017-09-27</td>\n",
       "      <td>Petar</td>\n",
       "      <td>Markovski</td>\n",
       "      <td>Instructional Designer</td>\n",
       "      <td>Not Qualified</td>\n",
       "      <td>Doctoral Degree</td>\n",
       "      <td>50000</td>\n",
       "    </tr>\n",
       "  </tbody>\n",
       "</table>\n",
       "</div>"
      ],
      "text/plain": [
       "    Application Date First Name   Last Name                Position  \\\n",
       "173       2018-01-31       Ryan   McCormick        Research Analyst   \n",
       "182       2017-09-13     Jenaya      Perdue        Research Analyst   \n",
       "222       2017-09-30     Jenaya      Perdue  Instructional Designer   \n",
       "232       2018-07-17      James  Zimmermann        Research Analyst   \n",
       "291       2017-09-27      Petar   Markovski  Instructional Designer   \n",
       "\n",
       "    Current Status  Education Level  Desired Salary  \n",
       "173  Not Qualified  Doctoral Degree           40000  \n",
       "182      Not a Fit  Doctoral Degree           40000  \n",
       "222  Not Qualified  Doctoral Degree           45000  \n",
       "232      Not a Fit  Doctoral Degree           45000  \n",
       "291  Not Qualified  Doctoral Degree           50000  "
      ]
     },
     "execution_count": 20,
     "metadata": {},
     "output_type": "execute_result"
    }
   ],
   "source": [
    "doctorate_df = df[df['Education Level'] == 'Doctoral Degree']\n",
    "doctorate_df.head()"
   ]
  },
  {
   "cell_type": "markdown",
   "metadata": {},
   "source": [
    "#### As we can see from this value counter, most of the doctoral candidates are applying to be research analysts.  What could this mean?"
   ]
  },
  {
   "cell_type": "code",
   "execution_count": 21,
   "metadata": {},
   "outputs": [
    {
     "data": {
      "text/plain": [
       "Research Analyst           59\n",
       "Instructional Designer     14\n",
       "Associate Brand Manager     1\n",
       "Journalist                  1\n",
       "Name: Position, dtype: int64"
      ]
     },
     "execution_count": 21,
     "metadata": {},
     "output_type": "execute_result"
    }
   ],
   "source": [
    "doctorate_df[\"Position\"].value_counts()"
   ]
  },
  {
   "cell_type": "markdown",
   "metadata": {},
   "source": [
    "**The majority of doctoral candidates are applying to be research analysts.**"
   ]
  },
  {
   "cell_type": "markdown",
   "metadata": {},
   "source": [
    "#### Visualizing the distrubution of desired salary based on education level:"
   ]
  },
  {
   "cell_type": "code",
   "execution_count": 22,
   "metadata": {},
   "outputs": [
    {
     "data": {
      "image/png": "[encoded data removed]",
      "text/plain": [
       "<Figure size 864x576 with 1 Axes>"
      ]
     },
     "metadata": {
      "needs_background": "light"
     },
     "output_type": "display_data"
    }
   ],
   "source": [
    "fig, ax = plt.subplots(figsize = (12,8))\n",
    "chart = sns.boxplot(x='Education Level',y='Desired Salary', data=df, ax = ax)\n",
    "plt.xticks(fontsize=10)\n",
    "plt.yticks(fontsize=10)\n",
    "plt.title('Distribution of Desired Salary According to Education Level',fontweight=\"bold\", size=18)\n",
    "plt.ylabel('Desired Salary', fontsize = 15, fontweight=\"bold\")\n",
    "plt.xlabel('Education Level', fontsize = 15, fontweight=\"bold\")\n",
    "plt.show()"
   ]
  },
  {
   "cell_type": "markdown",
   "metadata": {},
   "source": [
    "**Looking at this boxplot above we can see that the doctoral candidates are desiring a higher average salary than other education levels.  This could be factoring in to why they are not getting hired.  If Academics feels like they can have someone for cheaper with the same ability to perform, why not do that?**"
   ]
  },
  {
   "cell_type": "code",
   "execution_count": 23,
   "metadata": {},
   "outputs": [],
   "source": [
    "dcounts = doctorate_df['Current Status'].value_counts()"
   ]
  },
  {
   "cell_type": "code",
   "execution_count": 24,
   "metadata": {},
   "outputs": [
    {
     "data": {
      "image/png": "[encoded data removed]",
      "text/plain": [
       "<Figure size 1008x288 with 1 Axes>"
      ]
     },
     "metadata": {
      "needs_background": "light"
     },
     "output_type": "display_data"
    }
   ],
   "source": [
    "plt.figure(figsize=(14,4))\n",
    "sns.barplot(dcounts.index, dcounts.values, alpha=0.8)\n",
    "plt.xticks(fontsize=10)\n",
    "plt.yticks(fontsize=10)\n",
    "plt.title('Current Status of Doctoral Candidates',fontweight=\"bold\", size=18)\n",
    "plt.ylabel('Counts', fontsize = 15, fontweight=\"bold\")\n",
    "plt.xlabel('Current Status', fontsize = 15, fontweight=\"bold\")\n",
    "plt.show()"
   ]
  },
  {
   "cell_type": "markdown",
   "metadata": {},
   "source": [
    "<a name=1 />"
   ]
  },
  {
   "cell_type": "markdown",
   "metadata": {},
   "source": [
    "### 4 Findings of Doctoral Candidates:\n",
    "* A lot less of them applying compared to other education levels.\n",
    "* More than half categorized as 'Not a Fit.'\n",
    "* They are desiring higher salaries.\n",
    "* Applying to be mostly Research Analysts.\n",
    "\n",
    "**These findings help us understand why a lot of these seemingly more qualified candidates are not getting hired.  In a pure numbers game, they are being overwelmed by Bachelor's and Master's candidates, even though they are considered top tier candidates.  They are mostly not fitting with the organization (which will hopefully make more sense to the HR Manager).  Their high desired salary range makes it tough to hire them over an equally qualified candidate.  And finally, they are mostly applying to be Research Analysts; not sure what to do with that information but combined with the other findings it could be an important trend for our stakeholder.** "
   ]
  },
  {
   "cell_type": "markdown",
   "metadata": {},
   "source": [
    "## 4: What is the most popular position according to applicant numbers, and which one has the highest desired salary?"
   ]
  },
  {
   "cell_type": "code",
   "execution_count": 25,
   "metadata": {},
   "outputs": [
    {
     "data": {
      "text/plain": [
       "array(['Office Assistant', 'Operations Assistant & Receptionist',\n",
       "       'Research Analyst', 'Executive Assistant', 'Journalist',\n",
       "       'Program Manager', 'Data Entry / Order Fulfillment', 'IT Intern',\n",
       "       'Instructional Designer', 'Associate Brand Manager',\n",
       "       'Membership Sales Executive', 'Sales Consultant'], dtype=object)"
      ]
     },
     "execution_count": 25,
     "metadata": {},
     "output_type": "execute_result"
    }
   ],
   "source": [
    "df['Position'].unique()"
   ]
  },
  {
   "cell_type": "code",
   "execution_count": 26,
   "metadata": {},
   "outputs": [
    {
     "data": {
      "text/plain": [
       "Research Analyst                       428\n",
       "Program Manager                        161\n",
       "Instructional Designer                 153\n",
       "Journalist                              97\n",
       "Executive Assistant                     78\n",
       "Data Entry / Order Fulfillment          58\n",
       "Operations Assistant & Receptionist     52\n",
       "Office Assistant                        51\n",
       "Associate Brand Manager                 34\n",
       "Membership Sales Executive              17\n",
       "Sales Consultant                        15\n",
       "IT Intern                                2\n",
       "Name: Position, dtype: int64"
      ]
     },
     "execution_count": 26,
     "metadata": {},
     "output_type": "execute_result"
    }
   ],
   "source": [
    "df['Position'].value_counts()"
   ]
  },
  {
   "cell_type": "markdown",
   "metadata": {},
   "source": [
    "**The dataset we were given is overwhelmingly research analyst applications.  This bias in the data will skew our results slightly when doing further inferential and descriptive analysis, and our stakeholder must keep that in mind.  But it's also is an interesting piece of information that our stakeholder might not have been aware of, why are so many candidates applying for this position?** "
   ]
  },
  {
   "cell_type": "markdown",
   "metadata": {},
   "source": [
    "#### Here we have a dataframe that outlines the average desired salary (high to low) based on position."
   ]
  },
  {
   "cell_type": "code",
   "execution_count": 27,
   "metadata": {},
   "outputs": [],
   "source": [
    "position_salary_df = pd.DataFrame(df.groupby(['Position'])['Desired Salary'].agg(lambda x: x.unique().mean()))\n",
    "position_salary_df = position_salary_df.reset_index()\n",
    "position_salary_df = position_salary_df.sort_values(by=['Desired Salary'], ascending=False)"
   ]
  },
  {
   "cell_type": "code",
   "execution_count": 28,
   "metadata": {
    "scrolled": false
   },
   "outputs": [
    {
     "data": {
      "image/png": "[encoded data removed]",
      "text/plain": [
       "<Figure size 864x720 with 1 Axes>"
      ]
     },
     "metadata": {
      "needs_background": "light"
     },
     "output_type": "display_data"
    }
   ],
   "source": [
    "fig, ax = plt.subplots(figsize = (12,10))\n",
    "chart = sns.boxplot(x='Position',y='Desired Salary', data=df, ax = ax)\n",
    "plt.xticks(fontsize=10)\n",
    "plt.yticks(fontsize=10)\n",
    "plt.title('Distribution of Desired Salary According to Position',fontweight=\"bold\", size=18)\n",
    "plt.ylabel('Desired Salary', fontsize = 12, fontweight=\"bold\")\n",
    "plt.xlabel('Position', fontsize = 12, fontweight=\"bold\")\n",
    "plt.xticks(rotation = 90)\n",
    "plt.show()"
   ]
  },
  {
   "cell_type": "markdown",
   "metadata": {},
   "source": [
    "**From this boxplot we can see that the top three positions in terms of desired salary are: Sales Consultant, Program Manager, and Associate Brand Manager.  Are these positions' desired salary ranges reflective of their responsibilities and workload in the company?**"
   ]
  },
  {
   "cell_type": "markdown",
   "metadata": {},
   "source": [
    "# Implementation of Second and Third Datasets (Sections 5 and 6) "
   ]
  },
  {
   "cell_type": "markdown",
   "metadata": {},
   "source": [
    "* To compare the data we have from Academics with outside information, we will introduce a second dataset from Glassdoor.com concerning positions and their respective salaries.\n",
    "* Upon acquiring the dataset from Glassdoor, Academics provided six salaries of positions in their company that were in the Glassdoor dataset.  We fused this information with the data from Academics to create a third dataset."
   ]
  },
  {
   "cell_type": "markdown",
   "metadata": {},
   "source": [
    "### Dataset 3"
   ]
  },
  {
   "cell_type": "code",
   "execution_count": 29,
   "metadata": {},
   "outputs": [
    {
     "data": {
      "text/html": [
       "<div>\n",
       "<style scoped>\n",
       "    .dataframe tbody tr th:only-of-type {\n",
       "        vertical-align: middle;\n",
       "    }\n",
       "\n",
       "    .dataframe tbody tr th {\n",
       "        vertical-align: top;\n",
       "    }\n",
       "\n",
       "    .dataframe thead th {\n",
       "        text-align: right;\n",
       "    }\n",
       "</style>\n",
       "<table border=\"1\" class=\"dataframe\">\n",
       "  <thead>\n",
       "    <tr style=\"text-align: right;\">\n",
       "      <th></th>\n",
       "      <th>Job_Title</th>\n",
       "      <th>City</th>\n",
       "      <th>Salary</th>\n",
       "    </tr>\n",
       "  </thead>\n",
       "  <tbody>\n",
       "    <tr>\n",
       "      <th>0</th>\n",
       "      <td>Business Development Manager</td>\n",
       "      <td>AI (Denver)</td>\n",
       "      <td>80000</td>\n",
       "    </tr>\n",
       "    <tr>\n",
       "      <th>1</th>\n",
       "      <td>Software Engineer</td>\n",
       "      <td>AI (Denver)</td>\n",
       "      <td>101000</td>\n",
       "    </tr>\n",
       "    <tr>\n",
       "      <th>2</th>\n",
       "      <td>Program Manager</td>\n",
       "      <td>AI (Denver)</td>\n",
       "      <td>65000</td>\n",
       "    </tr>\n",
       "    <tr>\n",
       "      <th>3</th>\n",
       "      <td>Technical Editor</td>\n",
       "      <td>AI (Denver)</td>\n",
       "      <td>63000</td>\n",
       "    </tr>\n",
       "    <tr>\n",
       "      <th>4</th>\n",
       "      <td>Human Resources Manager</td>\n",
       "      <td>AI (Denver)</td>\n",
       "      <td>93500</td>\n",
       "    </tr>\n",
       "    <tr>\n",
       "      <th>5</th>\n",
       "      <td>Operations Manager</td>\n",
       "      <td>AI (Denver)</td>\n",
       "      <td>75000</td>\n",
       "    </tr>\n",
       "  </tbody>\n",
       "</table>\n",
       "</div>"
      ],
      "text/plain": [
       "                      Job_Title         City  Salary\n",
       "0  Business Development Manager  AI (Denver)   80000\n",
       "1             Software Engineer  AI (Denver)  101000\n",
       "2               Program Manager  AI (Denver)   65000\n",
       "3              Technical Editor  AI (Denver)   63000\n",
       "4       Human Resources Manager  AI (Denver)   93500\n",
       "5            Operations Manager  AI (Denver)   75000"
      ]
     },
     "execution_count": 29,
     "metadata": {},
     "output_type": "execute_result"
    }
   ],
   "source": [
    "df3 = pd.read_csv('data2.csv')\n",
    "df3"
   ]
  },
  {
   "cell_type": "markdown",
   "metadata": {},
   "source": [
    "### Cleaning Dataset 2"
   ]
  },
  {
   "cell_type": "code",
   "execution_count": 30,
   "metadata": {},
   "outputs": [
    {
     "name": "stdout",
     "output_type": "stream",
     "text": [
      "Length: 1936\n"
     ]
    },
    {
     "data": {
      "text/html": [
       "<div>\n",
       "<style scoped>\n",
       "    .dataframe tbody tr th:only-of-type {\n",
       "        vertical-align: middle;\n",
       "    }\n",
       "\n",
       "    .dataframe tbody tr th {\n",
       "        vertical-align: top;\n",
       "    }\n",
       "\n",
       "    .dataframe thead th {\n",
       "        text-align: right;\n",
       "    }\n",
       "</style>\n",
       "<table border=\"1\" class=\"dataframe\">\n",
       "  <thead>\n",
       "    <tr style=\"text-align: right;\">\n",
       "      <th></th>\n",
       "      <th>Metro</th>\n",
       "      <th>Dimension Type</th>\n",
       "      <th>Month</th>\n",
       "      <th>Dimension</th>\n",
       "      <th>Measure</th>\n",
       "      <th>Value</th>\n",
       "      <th>YoY</th>\n",
       "    </tr>\n",
       "  </thead>\n",
       "  <tbody>\n",
       "    <tr>\n",
       "      <th>0</th>\n",
       "      <td>National</td>\n",
       "      <td>Job Title</td>\n",
       "      <td>2018-10</td>\n",
       "      <td>Software Engineer</td>\n",
       "      <td>Median Base Pay</td>\n",
       "      <td>87874.0</td>\n",
       "      <td>3.10%</td>\n",
       "    </tr>\n",
       "    <tr>\n",
       "      <th>1</th>\n",
       "      <td>National</td>\n",
       "      <td>Job Title</td>\n",
       "      <td>2018-10</td>\n",
       "      <td>Programmer Analyst</td>\n",
       "      <td>Median Base Pay</td>\n",
       "      <td>69916.0</td>\n",
       "      <td>4.80%</td>\n",
       "    </tr>\n",
       "    <tr>\n",
       "      <th>2</th>\n",
       "      <td>National</td>\n",
       "      <td>Job Title</td>\n",
       "      <td>2018-10</td>\n",
       "      <td>Consultant</td>\n",
       "      <td>Median Base Pay</td>\n",
       "      <td>72861.0</td>\n",
       "      <td>0.20%</td>\n",
       "    </tr>\n",
       "    <tr>\n",
       "      <th>3</th>\n",
       "      <td>National</td>\n",
       "      <td>Job Title</td>\n",
       "      <td>2018-10</td>\n",
       "      <td>Project Manager</td>\n",
       "      <td>Median Base Pay</td>\n",
       "      <td>70213.0</td>\n",
       "      <td>-4.10%</td>\n",
       "    </tr>\n",
       "    <tr>\n",
       "      <th>4</th>\n",
       "      <td>National</td>\n",
       "      <td>Job Title</td>\n",
       "      <td>2018-10</td>\n",
       "      <td>Store Manager</td>\n",
       "      <td>Median Base Pay</td>\n",
       "      <td>49905.0</td>\n",
       "      <td>2.50%</td>\n",
       "    </tr>\n",
       "  </tbody>\n",
       "</table>\n",
       "</div>"
      ],
      "text/plain": [
       "      Metro Dimension Type    Month           Dimension          Measure  \\\n",
       "0  National      Job Title  2018-10   Software Engineer  Median Base Pay   \n",
       "1  National      Job Title  2018-10  Programmer Analyst  Median Base Pay   \n",
       "2  National      Job Title  2018-10          Consultant  Median Base Pay   \n",
       "3  National      Job Title  2018-10     Project Manager  Median Base Pay   \n",
       "4  National      Job Title  2018-10       Store Manager  Median Base Pay   \n",
       "\n",
       "     Value     YoY  \n",
       "0  87874.0   3.10%  \n",
       "1  69916.0   4.80%  \n",
       "2  72861.0   0.20%  \n",
       "3  70213.0  -4.10%  \n",
       "4  49905.0   2.50%  "
      ]
     },
     "execution_count": 30,
     "metadata": {},
     "output_type": "execute_result"
    }
   ],
   "source": [
    "df2 = pd.read_csv('national.csv',dtype={'Value': float})\n",
    "print('Length: ' + str(len(df2)))\n",
    "df2.head()"
   ]
  },
  {
   "cell_type": "markdown",
   "metadata": {},
   "source": [
    "#### Dropping unneeded columns"
   ]
  },
  {
   "cell_type": "code",
   "execution_count": 31,
   "metadata": {},
   "outputs": [],
   "source": [
    "df2 = df2.drop(['YoY','Measure', 'Dimension Type', 'Month'],axis=1)"
   ]
  },
  {
   "cell_type": "markdown",
   "metadata": {},
   "source": [
    "#### Renaming some values to make it easier to compare to the original dataset from Academics."
   ]
  },
  {
   "cell_type": "code",
   "execution_count": 32,
   "metadata": {},
   "outputs": [],
   "source": [
    "df2.columns = ['City','Job_Title','Salary']"
   ]
  },
  {
   "cell_type": "markdown",
   "metadata": {},
   "source": [
    "#### Removing unneeded values in our dataset."
   ]
  },
  {
   "cell_type": "code",
   "execution_count": 33,
   "metadata": {},
   "outputs": [],
   "source": [
    "df2 = df2[df2.Job_Title != 'Median Base Pay']\n",
    "df2 = df2[df2.Job_Title != 'Metro Median Base Pay']\n",
    "df2 = df2[df2.City != 'Timeseries']\n",
    "df2 = df2[df2.City != 'National']"
   ]
  },
  {
   "cell_type": "code",
   "execution_count": 34,
   "metadata": {},
   "outputs": [],
   "source": [
    "df2 = df2[df2['Job_Title'].isin(['Technical Editor','Software Engineer','Business Development Manager','Software Engineer', 'Program Manager', 'Human Resources Manager', 'Operations Manager',])]"
   ]
  },
  {
   "cell_type": "markdown",
   "metadata": {},
   "source": [
    "#### Cleaned Glassdoor data set"
   ]
  },
  {
   "cell_type": "code",
   "execution_count": 35,
   "metadata": {},
   "outputs": [
    {
     "name": "stdout",
     "output_type": "stream",
     "text": [
      "Length: 60\n"
     ]
    },
    {
     "data": {
      "text/html": [
       "<div>\n",
       "<style scoped>\n",
       "    .dataframe tbody tr th:only-of-type {\n",
       "        vertical-align: middle;\n",
       "    }\n",
       "\n",
       "    .dataframe tbody tr th {\n",
       "        vertical-align: top;\n",
       "    }\n",
       "\n",
       "    .dataframe thead th {\n",
       "        text-align: right;\n",
       "    }\n",
       "</style>\n",
       "<table border=\"1\" class=\"dataframe\">\n",
       "  <thead>\n",
       "    <tr style=\"text-align: right;\">\n",
       "      <th></th>\n",
       "      <th>City</th>\n",
       "      <th>Job_Title</th>\n",
       "      <th>Salary</th>\n",
       "    </tr>\n",
       "  </thead>\n",
       "  <tbody>\n",
       "    <tr>\n",
       "      <th>0</th>\n",
       "      <td>Atlanta</td>\n",
       "      <td>Software Engineer</td>\n",
       "      <td>86019.0</td>\n",
       "    </tr>\n",
       "    <tr>\n",
       "      <th>1</th>\n",
       "      <td>Atlanta</td>\n",
       "      <td>Operations Manager</td>\n",
       "      <td>72625.0</td>\n",
       "    </tr>\n",
       "    <tr>\n",
       "      <th>2</th>\n",
       "      <td>Atlanta</td>\n",
       "      <td>Business Development Manager</td>\n",
       "      <td>76632.0</td>\n",
       "    </tr>\n",
       "    <tr>\n",
       "      <th>3</th>\n",
       "      <td>Atlanta</td>\n",
       "      <td>Human Resources Manager</td>\n",
       "      <td>78024.0</td>\n",
       "    </tr>\n",
       "    <tr>\n",
       "      <th>4</th>\n",
       "      <td>Atlanta</td>\n",
       "      <td>Technical Editor</td>\n",
       "      <td>54888.0</td>\n",
       "    </tr>\n",
       "  </tbody>\n",
       "</table>\n",
       "</div>"
      ],
      "text/plain": [
       "      City                     Job_Title   Salary\n",
       "0  Atlanta             Software Engineer  86019.0\n",
       "1  Atlanta            Operations Manager  72625.0\n",
       "2  Atlanta  Business Development Manager  76632.0\n",
       "3  Atlanta       Human Resources Manager  78024.0\n",
       "4  Atlanta              Technical Editor  54888.0"
      ]
     },
     "execution_count": 35,
     "metadata": {},
     "output_type": "execute_result"
    }
   ],
   "source": [
    "print('Length: ' + str(len(df2)))\n",
    "df2 = df2.append(df3,sort=False,ignore_index=True)\n",
    "df2.head()"
   ]
  },
  {
   "cell_type": "markdown",
   "metadata": {},
   "source": [
    "#### These are the 11 cities represented in our new dataset"
   ]
  },
  {
   "cell_type": "code",
   "execution_count": 36,
   "metadata": {},
   "outputs": [
    {
     "data": {
      "text/plain": [
       "array(['Atlanta', 'New York City', 'Los Angeles', 'Philadelphia',\n",
       "       'Houston', 'Seattle', 'San Francisco', 'Chicago', 'Boston',\n",
       "       'Washington DC', 'AI (Denver)'], dtype=object)"
      ]
     },
     "execution_count": 36,
     "metadata": {},
     "output_type": "execute_result"
    }
   ],
   "source": [
    "df2['City'].unique()"
   ]
  },
  {
   "cell_type": "markdown",
   "metadata": {},
   "source": [
    "**At this point we felt that creating a national dataframe with salary information from other cities around the US might show that Academics is paying below market value for the positions they frequently hire for.**\n",
    "<br>\n",
    "\n",
    "**We found the November 2018 dataset from Glassdoor.com which gave us job data that included multiple cities, titles as well as the average salary for each position.  We pulled a handful of position titles from our Glassdoor dataset and asked Academics if they had hired for any of these same positions in the past.  We were able to match six positions between Glassdoor and Academics and were given the starting hiring salary of those positions, which is why would had to anonymize the name or our stakeholder.**"
   ]
  },
  {
   "cell_type": "markdown",
   "metadata": {},
   "source": [
    "<a name=5 />"
   ]
  },
  {
   "cell_type": "markdown",
   "metadata": {},
   "source": [
    "## 5: What are the national salary averages of job titles that Academics currently employs? "
   ]
  },
  {
   "cell_type": "code",
   "execution_count": 37,
   "metadata": {},
   "outputs": [
    {
     "data": {
      "text/html": [
       "<div>\n",
       "<style scoped>\n",
       "    .dataframe tbody tr th:only-of-type {\n",
       "        vertical-align: middle;\n",
       "    }\n",
       "\n",
       "    .dataframe tbody tr th {\n",
       "        vertical-align: top;\n",
       "    }\n",
       "\n",
       "    .dataframe thead th {\n",
       "        text-align: right;\n",
       "    }\n",
       "</style>\n",
       "<table border=\"1\" class=\"dataframe\">\n",
       "  <thead>\n",
       "    <tr style=\"text-align: right;\">\n",
       "      <th></th>\n",
       "      <th>Job_Title</th>\n",
       "      <th>Salary</th>\n",
       "    </tr>\n",
       "  </thead>\n",
       "  <tbody>\n",
       "    <tr>\n",
       "      <th>0</th>\n",
       "      <td>Business Development Manager</td>\n",
       "      <td>83057.272727</td>\n",
       "    </tr>\n",
       "    <tr>\n",
       "      <th>1</th>\n",
       "      <td>Human Resources Manager</td>\n",
       "      <td>87320.727273</td>\n",
       "    </tr>\n",
       "    <tr>\n",
       "      <th>2</th>\n",
       "      <td>Operations Manager</td>\n",
       "      <td>77521.000000</td>\n",
       "    </tr>\n",
       "    <tr>\n",
       "      <th>3</th>\n",
       "      <td>Program Manager</td>\n",
       "      <td>86163.454545</td>\n",
       "    </tr>\n",
       "    <tr>\n",
       "      <th>4</th>\n",
       "      <td>Software Engineer</td>\n",
       "      <td>98856.636364</td>\n",
       "    </tr>\n",
       "    <tr>\n",
       "      <th>5</th>\n",
       "      <td>Technical Editor</td>\n",
       "      <td>62864.000000</td>\n",
       "    </tr>\n",
       "  </tbody>\n",
       "</table>\n",
       "</div>"
      ],
      "text/plain": [
       "                      Job_Title        Salary\n",
       "0  Business Development Manager  83057.272727\n",
       "1       Human Resources Manager  87320.727273\n",
       "2            Operations Manager  77521.000000\n",
       "3               Program Manager  86163.454545\n",
       "4             Software Engineer  98856.636364\n",
       "5              Technical Editor  62864.000000"
      ]
     },
     "execution_count": 37,
     "metadata": {},
     "output_type": "execute_result"
    }
   ],
   "source": [
    "df2_s_j = pd.DataFrame(df2.groupby(['Job_Title'])['Salary'].agg(lambda x: x.unique().mean()))\n",
    "df2_s_j = df2_s_j.reset_index()\n",
    "df2_s_j"
   ]
  },
  {
   "cell_type": "markdown",
   "metadata": {},
   "source": [
    "<a name=6 />"
   ]
  },
  {
   "cell_type": "markdown",
   "metadata": {},
   "source": [
    "## 6: Is Academics paying above or below average compared to other cities represented in our new dataset?"
   ]
  },
  {
   "cell_type": "code",
   "execution_count": 38,
   "metadata": {},
   "outputs": [],
   "source": [
    "df2_analysis = pd.DataFrame(df2.groupby(['Job_Title', 'City'])['Salary'].agg(lambda x: x.unique().mean()))\n",
    "df2_analysis = df2_analysis.reset_index()\n",
    "df2_analysis = df2_analysis.sort_values(by=['City'])"
   ]
  },
  {
   "cell_type": "code",
   "execution_count": 39,
   "metadata": {
    "scrolled": false
   },
   "outputs": [
    {
     "data": {
      "image/png": "[encoded data removed]",
      "text/plain": [
       "<Figure size 804.45x576 with 1 Axes>"
      ]
     },
     "metadata": {
      "needs_background": "light"
     },
     "output_type": "display_data"
    }
   ],
   "source": [
    "palette ={\"AI (Denver)\":\"black\",\"Atlanta\":\"crimson\",\"Boston\":\"darkorange\", \"Chicago\":\"yellow\",\n",
    "         \"Houston\":\"chartreuse\",\"Los Angeles\":\"darkturquoise\",\"New York City\":\"pink\", \"Philadelphia\":\"mediumpurple\",\n",
    "         \"San Francisco\":\"deepskyblue\",\"Seattle\":\"g\",\"Washington DC\":\"C2\"}\n",
    "\n",
    "sns.catplot(x=\"Salary\", y=\"Job_Title\", hue=\"City\", data=df2_analysis, kind=\"bar\",\n",
    "           height=8, aspect=1.2, palette=palette)\n",
    "plt.xticks(fontsize=15)\n",
    "plt.yticks(fontsize=15)\n",
    "plt.title('Comparison of Average Salary',fontweight=\"bold\", size=18)\n",
    "plt.ylabel('Position', fontsize = 18, fontweight=\"bold\")\n",
    "plt.xlabel('Desired Salary', fontsize = 18, fontweight=\"bold\")\n",
    "plt.show()"
   ]
  },
  {
   "cell_type": "markdown",
   "metadata": {},
   "source": [
    "<a name=7/>"
   ]
  },
  {
   "cell_type": "markdown",
   "metadata": {},
   "source": [
    "<a name=7 />"
   ]
  },
  {
   "cell_type": "markdown",
   "metadata": {},
   "source": [
    "## 7: When are there spikes in applications?"
   ]
  },
  {
   "cell_type": "code",
   "execution_count": 40,
   "metadata": {},
   "outputs": [],
   "source": [
    "df['Month'] = df['Application Date'].dt.month"
   ]
  },
  {
   "cell_type": "code",
   "execution_count": 41,
   "metadata": {},
   "outputs": [],
   "source": [
    "month_counts = df['Month'].value_counts()"
   ]
  },
  {
   "cell_type": "code",
   "execution_count": 42,
   "metadata": {},
   "outputs": [],
   "source": [
    "mcounts_df = pd.DataFrame(month_counts)"
   ]
  },
  {
   "cell_type": "code",
   "execution_count": 43,
   "metadata": {},
   "outputs": [
    {
     "data": {
      "image/png": "[encoded data removed]",
      "text/plain": [
       "<Figure size 720x432 with 1 Axes>"
      ]
     },
     "metadata": {
      "needs_background": "light"
     },
     "output_type": "display_data"
    }
   ],
   "source": [
    "plt.figure(figsize=(10,6))\n",
    "m = ['0','Jan', 'Feb', 'Mar', 'Apr', 'May', 'Jun', 'Jul', 'Aug', 'Sep', 'Oct', 'Nov', 'Dec']\n",
    "sns.lineplot(data = mcounts_df, alpha=0.8)\n",
    "#set_xticklabels(m, rotation='vertical', fontsize=18)\n",
    "plt.xticks(range(len(mcounts_df)+1), m, size='small')\n",
    "plt.yticks(fontsize=10)\n",
    "plt.title('Applications',fontweight=\"bold\", size=18)\n",
    "plt.ylabel('Counts', fontsize = 12, fontweight=\"bold\")\n",
    "plt.xlabel('Month', fontsize = 12, fontweight=\"bold\")\n",
    "plt.show();"
   ]
  },
  {
   "cell_type": "markdown",
   "metadata": {},
   "source": [
    "#### As we can see from the graph above, there is a major spike in applications in the month of August.  Not exactly sure what is causing this?  This is useful for an HR manager to know as they can better prepare for a greater influx in applications."
   ]
  },
  {
   "cell_type": "markdown",
   "metadata": {},
   "source": [
    "<a name=8 />"
   ]
  },
  {
   "cell_type": "markdown",
   "metadata": {},
   "source": [
    "## 8: What sort of candidates are getting hired?"
   ]
  },
  {
   "cell_type": "code",
   "execution_count": 44,
   "metadata": {},
   "outputs": [
    {
     "data": {
      "text/html": [
       "<div>\n",
       "<style scoped>\n",
       "    .dataframe tbody tr th:only-of-type {\n",
       "        vertical-align: middle;\n",
       "    }\n",
       "\n",
       "    .dataframe tbody tr th {\n",
       "        vertical-align: top;\n",
       "    }\n",
       "\n",
       "    .dataframe thead th {\n",
       "        text-align: right;\n",
       "    }\n",
       "</style>\n",
       "<table border=\"1\" class=\"dataframe\">\n",
       "  <thead>\n",
       "    <tr style=\"text-align: right;\">\n",
       "      <th></th>\n",
       "      <th>Application Date</th>\n",
       "      <th>First Name</th>\n",
       "      <th>Last Name</th>\n",
       "      <th>Position</th>\n",
       "      <th>Current Status</th>\n",
       "      <th>Education Level</th>\n",
       "      <th>Desired Salary</th>\n",
       "      <th>Month</th>\n",
       "    </tr>\n",
       "  </thead>\n",
       "  <tbody>\n",
       "    <tr>\n",
       "      <th>61</th>\n",
       "      <td>2017-12-13</td>\n",
       "      <td>Kristen</td>\n",
       "      <td>Blyleven</td>\n",
       "      <td>Data Entry / Order Fulfillment</td>\n",
       "      <td>Hired</td>\n",
       "      <td>NaN</td>\n",
       "      <td>24000</td>\n",
       "      <td>12</td>\n",
       "    </tr>\n",
       "    <tr>\n",
       "      <th>72</th>\n",
       "      <td>2017-08-17</td>\n",
       "      <td>Mylas</td>\n",
       "      <td>Stokes</td>\n",
       "      <td>Data Entry / Order Fulfillment</td>\n",
       "      <td>Hired</td>\n",
       "      <td>Bachelor's Degree</td>\n",
       "      <td>24000</td>\n",
       "      <td>8</td>\n",
       "    </tr>\n",
       "    <tr>\n",
       "      <th>92</th>\n",
       "      <td>2017-07-31</td>\n",
       "      <td>Dora</td>\n",
       "      <td>Grace</td>\n",
       "      <td>Data Entry / Order Fulfillment</td>\n",
       "      <td>Hired</td>\n",
       "      <td>Bachelor's Degree</td>\n",
       "      <td>24000</td>\n",
       "      <td>7</td>\n",
       "    </tr>\n",
       "    <tr>\n",
       "      <th>103</th>\n",
       "      <td>2018-02-01</td>\n",
       "      <td>Vincent</td>\n",
       "      <td>McGargill</td>\n",
       "      <td>IT Intern</td>\n",
       "      <td>Hired</td>\n",
       "      <td>NaN</td>\n",
       "      <td>26000</td>\n",
       "      <td>2</td>\n",
       "    </tr>\n",
       "    <tr>\n",
       "      <th>528</th>\n",
       "      <td>2017-09-29</td>\n",
       "      <td>Sasha</td>\n",
       "      <td>Egorova</td>\n",
       "      <td>Research Analyst</td>\n",
       "      <td>Hired</td>\n",
       "      <td>Master's Degree</td>\n",
       "      <td>60000</td>\n",
       "      <td>9</td>\n",
       "    </tr>\n",
       "    <tr>\n",
       "      <th>572</th>\n",
       "      <td>2018-05-06</td>\n",
       "      <td>Courtney</td>\n",
       "      <td>Biedermann</td>\n",
       "      <td>Journalist</td>\n",
       "      <td>Hired</td>\n",
       "      <td>Bachelor's Degree</td>\n",
       "      <td>65000</td>\n",
       "      <td>5</td>\n",
       "    </tr>\n",
       "    <tr>\n",
       "      <th>576</th>\n",
       "      <td>2018-03-21</td>\n",
       "      <td>Whitney</td>\n",
       "      <td>Egstad</td>\n",
       "      <td>Program Manager</td>\n",
       "      <td>Hired</td>\n",
       "      <td>NaN</td>\n",
       "      <td>65000</td>\n",
       "      <td>3</td>\n",
       "    </tr>\n",
       "    <tr>\n",
       "      <th>584</th>\n",
       "      <td>2017-10-18</td>\n",
       "      <td>Barry</td>\n",
       "      <td>Wilhelm</td>\n",
       "      <td>Program Manager</td>\n",
       "      <td>Hired</td>\n",
       "      <td>NaN</td>\n",
       "      <td>65000</td>\n",
       "      <td>10</td>\n",
       "    </tr>\n",
       "    <tr>\n",
       "      <th>617</th>\n",
       "      <td>2018-06-11</td>\n",
       "      <td>Timea</td>\n",
       "      <td>Halmai</td>\n",
       "      <td>Associate Brand Manager</td>\n",
       "      <td>Hired</td>\n",
       "      <td>Bachelor's Degree</td>\n",
       "      <td>70000</td>\n",
       "      <td>6</td>\n",
       "    </tr>\n",
       "    <tr>\n",
       "      <th>727</th>\n",
       "      <td>2018-03-13</td>\n",
       "      <td>Ashley</td>\n",
       "      <td>Brand</td>\n",
       "      <td>Program Manager</td>\n",
       "      <td>Hired</td>\n",
       "      <td>NaN</td>\n",
       "      <td>80000</td>\n",
       "      <td>3</td>\n",
       "    </tr>\n",
       "    <tr>\n",
       "      <th>790</th>\n",
       "      <td>2018-02-13</td>\n",
       "      <td>Rabia</td>\n",
       "      <td>Khan Harvey</td>\n",
       "      <td>Program Manager</td>\n",
       "      <td>Hired</td>\n",
       "      <td>NaN</td>\n",
       "      <td>95000</td>\n",
       "      <td>2</td>\n",
       "    </tr>\n",
       "    <tr>\n",
       "      <th>875</th>\n",
       "      <td>2018-07-20</td>\n",
       "      <td>Lynn</td>\n",
       "      <td>Ross</td>\n",
       "      <td>Operations Assistant &amp; Receptionist</td>\n",
       "      <td>Hired</td>\n",
       "      <td>Some College</td>\n",
       "      <td>40000</td>\n",
       "      <td>7</td>\n",
       "    </tr>\n",
       "    <tr>\n",
       "      <th>939</th>\n",
       "      <td>2017-10-18</td>\n",
       "      <td>Katherine</td>\n",
       "      <td>Poisson</td>\n",
       "      <td>Program Manager</td>\n",
       "      <td>Hired</td>\n",
       "      <td>NaN</td>\n",
       "      <td>70000</td>\n",
       "      <td>10</td>\n",
       "    </tr>\n",
       "  </tbody>\n",
       "</table>\n",
       "</div>"
      ],
      "text/plain": [
       "    Application Date First Name    Last Name  \\\n",
       "61        2017-12-13    Kristen     Blyleven   \n",
       "72        2017-08-17      Mylas       Stokes   \n",
       "92        2017-07-31       Dora        Grace   \n",
       "103       2018-02-01    Vincent    McGargill   \n",
       "528       2017-09-29      Sasha      Egorova   \n",
       "572       2018-05-06   Courtney   Biedermann   \n",
       "576       2018-03-21    Whitney       Egstad   \n",
       "584       2017-10-18      Barry      Wilhelm   \n",
       "617       2018-06-11      Timea       Halmai   \n",
       "727       2018-03-13     Ashley        Brand   \n",
       "790       2018-02-13      Rabia  Khan Harvey   \n",
       "875       2018-07-20       Lynn         Ross   \n",
       "939       2017-10-18  Katherine      Poisson   \n",
       "\n",
       "                                Position Current Status    Education Level  \\\n",
       "61        Data Entry / Order Fulfillment          Hired                NaN   \n",
       "72        Data Entry / Order Fulfillment          Hired  Bachelor's Degree   \n",
       "92        Data Entry / Order Fulfillment          Hired  Bachelor's Degree   \n",
       "103                            IT Intern          Hired                NaN   \n",
       "528                     Research Analyst          Hired    Master's Degree   \n",
       "572                           Journalist          Hired  Bachelor's Degree   \n",
       "576                      Program Manager          Hired                NaN   \n",
       "584                      Program Manager          Hired                NaN   \n",
       "617              Associate Brand Manager          Hired  Bachelor's Degree   \n",
       "727                      Program Manager          Hired                NaN   \n",
       "790                      Program Manager          Hired                NaN   \n",
       "875  Operations Assistant & Receptionist          Hired       Some College   \n",
       "939                      Program Manager          Hired                NaN   \n",
       "\n",
       "     Desired Salary  Month  \n",
       "61            24000     12  \n",
       "72            24000      8  \n",
       "92            24000      7  \n",
       "103           26000      2  \n",
       "528           60000      9  \n",
       "572           65000      5  \n",
       "576           65000      3  \n",
       "584           65000     10  \n",
       "617           70000      6  \n",
       "727           80000      3  \n",
       "790           95000      2  \n",
       "875           40000      7  \n",
       "939           70000     10  "
      ]
     },
     "execution_count": 44,
     "metadata": {},
     "output_type": "execute_result"
    }
   ],
   "source": [
    "hired_df = df[df['Current Status'] == 'Hired']\n",
    "hired_df"
   ]
  },
  {
   "cell_type": "code",
   "execution_count": 45,
   "metadata": {},
   "outputs": [
    {
     "data": {
      "text/plain": [
       "Program Manager                        5\n",
       "Data Entry / Order Fulfillment         3\n",
       "Research Analyst                       1\n",
       "Journalist                             1\n",
       "Operations Assistant & Receptionist    1\n",
       "Associate Brand Manager                1\n",
       "IT Intern                              1\n",
       "Name: Position, dtype: int64"
      ]
     },
     "execution_count": 45,
     "metadata": {},
     "output_type": "execute_result"
    }
   ],
   "source": [
    "hired_df['Position'].value_counts()"
   ]
  },
  {
   "cell_type": "code",
   "execution_count": 46,
   "metadata": {},
   "outputs": [],
   "source": [
    "hired_salary_df = pd.DataFrame(hired_df.groupby(['Position'])['Desired Salary'].agg(lambda x: x.unique().mean()))\n",
    "hired_salary_df = hired_salary_df.reset_index()\n",
    "hired_salary_df = hired_salary_df.sort_values(by=['Desired Salary'])"
   ]
  },
  {
   "cell_type": "code",
   "execution_count": 47,
   "metadata": {},
   "outputs": [
    {
     "data": {
      "text/html": [
       "<div>\n",
       "<style scoped>\n",
       "    .dataframe tbody tr th:only-of-type {\n",
       "        vertical-align: middle;\n",
       "    }\n",
       "\n",
       "    .dataframe tbody tr th {\n",
       "        vertical-align: top;\n",
       "    }\n",
       "\n",
       "    .dataframe thead th {\n",
       "        text-align: right;\n",
       "    }\n",
       "</style>\n",
       "<table border=\"1\" class=\"dataframe\">\n",
       "  <thead>\n",
       "    <tr style=\"text-align: right;\">\n",
       "      <th></th>\n",
       "      <th>Position</th>\n",
       "      <th>All Applicants</th>\n",
       "      <th>Hired Applicants</th>\n",
       "    </tr>\n",
       "  </thead>\n",
       "  <tbody>\n",
       "    <tr>\n",
       "      <th>0</th>\n",
       "      <td>Sales Consultant</td>\n",
       "      <td>82400.000000</td>\n",
       "      <td>NaN</td>\n",
       "    </tr>\n",
       "    <tr>\n",
       "      <th>1</th>\n",
       "      <td>Program Manager</td>\n",
       "      <td>81512.820513</td>\n",
       "      <td>77500.0</td>\n",
       "    </tr>\n",
       "    <tr>\n",
       "      <th>2</th>\n",
       "      <td>Associate Brand Manager</td>\n",
       "      <td>70866.666667</td>\n",
       "      <td>70000.0</td>\n",
       "    </tr>\n",
       "    <tr>\n",
       "      <th>3</th>\n",
       "      <td>Instructional Designer</td>\n",
       "      <td>69242.393939</td>\n",
       "      <td>NaN</td>\n",
       "    </tr>\n",
       "    <tr>\n",
       "      <th>4</th>\n",
       "      <td>Research Analyst</td>\n",
       "      <td>60819.169811</td>\n",
       "      <td>60000.0</td>\n",
       "    </tr>\n",
       "    <tr>\n",
       "      <th>5</th>\n",
       "      <td>Membership Sales Executive</td>\n",
       "      <td>60555.555556</td>\n",
       "      <td>NaN</td>\n",
       "    </tr>\n",
       "    <tr>\n",
       "      <th>6</th>\n",
       "      <td>Journalist</td>\n",
       "      <td>60020.833333</td>\n",
       "      <td>65000.0</td>\n",
       "    </tr>\n",
       "    <tr>\n",
       "      <th>7</th>\n",
       "      <td>Executive Assistant</td>\n",
       "      <td>54120.000000</td>\n",
       "      <td>NaN</td>\n",
       "    </tr>\n",
       "    <tr>\n",
       "      <th>8</th>\n",
       "      <td>Operations Assistant &amp; Receptionist</td>\n",
       "      <td>38333.333333</td>\n",
       "      <td>40000.0</td>\n",
       "    </tr>\n",
       "    <tr>\n",
       "      <th>9</th>\n",
       "      <td>Office Assistant</td>\n",
       "      <td>31493.538462</td>\n",
       "      <td>NaN</td>\n",
       "    </tr>\n",
       "    <tr>\n",
       "      <th>10</th>\n",
       "      <td>Data Entry / Order Fulfillment</td>\n",
       "      <td>26300.000000</td>\n",
       "      <td>24000.0</td>\n",
       "    </tr>\n",
       "    <tr>\n",
       "      <th>11</th>\n",
       "      <td>IT Intern</td>\n",
       "      <td>23000.000000</td>\n",
       "      <td>26000.0</td>\n",
       "    </tr>\n",
       "  </tbody>\n",
       "</table>\n",
       "</div>"
      ],
      "text/plain": [
       "                               Position  All Applicants  Hired Applicants\n",
       "0                      Sales Consultant    82400.000000               NaN\n",
       "1                       Program Manager    81512.820513           77500.0\n",
       "2               Associate Brand Manager    70866.666667           70000.0\n",
       "3                Instructional Designer    69242.393939               NaN\n",
       "4                      Research Analyst    60819.169811           60000.0\n",
       "5            Membership Sales Executive    60555.555556               NaN\n",
       "6                            Journalist    60020.833333           65000.0\n",
       "7                   Executive Assistant    54120.000000               NaN\n",
       "8   Operations Assistant & Receptionist    38333.333333           40000.0\n",
       "9                      Office Assistant    31493.538462               NaN\n",
       "10       Data Entry / Order Fulfillment    26300.000000           24000.0\n",
       "11                            IT Intern    23000.000000           26000.0"
      ]
     },
     "execution_count": 47,
     "metadata": {},
     "output_type": "execute_result"
    }
   ],
   "source": [
    "merged = pd.merge(position_salary_df, hired_salary_df, on=['Position'],how='outer')\n",
    "merged.columns = ['Position', 'All Applicants', 'Hired Applicants']\n",
    "merged"
   ]
  },
  {
   "cell_type": "code",
   "execution_count": 48,
   "metadata": {},
   "outputs": [
    {
     "data": {
      "image/png": "[encoded data removed]",
      "text/plain": [
       "<Figure size 720x360 with 1 Axes>"
      ]
     },
     "metadata": {
      "needs_background": "light"
     },
     "output_type": "display_data"
    }
   ],
   "source": [
    "merged.plot(kind='bar', figsize=(10, 5), legend=True, fontsize=12)\n",
    "plt.xticks(np.arange(len(merged['Position'])), merged['Position'], rotation = 90)\n",
    "plt.title('Desired Salary: All vs. Hired',fontweight=\"bold\", size=18)\n",
    "plt.ylabel('Desired Salary', fontsize = 15, fontweight=\"bold\")\n",
    "plt.xlabel('Position', fontsize = 15, fontweight=\"bold\")\n",
    "plt.show()"
   ]
  },
  {
   "cell_type": "markdown",
   "metadata": {},
   "source": [
    "**Originally we thought it would be beneficial to look at just the attributes of the candidates that have gotten hired.  We found that of all the applicants in this dataset only 12 of them were hired.  There were no significant defining features of these twelve to justify why they might have gotten hired.**"
   ]
  },
  {
   "cell_type": "markdown",
   "metadata": {},
   "source": [
    "<a name=9 />"
   ]
  },
  {
   "cell_type": "markdown",
   "metadata": {},
   "source": [
    "## 9: Attempting to predict position based on education level and desired salary."
   ]
  },
  {
   "cell_type": "markdown",
   "metadata": {},
   "source": [
    "### Logistic Regression"
   ]
  },
  {
   "cell_type": "markdown",
   "metadata": {},
   "source": [
    "#### Training the Model:"
   ]
  },
  {
   "cell_type": "code",
   "execution_count": 49,
   "metadata": {},
   "outputs": [],
   "source": [
    "df.columns = [c.replace(' ', '_') for c in df.columns]\n",
    "df = df.dropna(subset=['Education_Level'])"
   ]
  },
  {
   "cell_type": "markdown",
   "metadata": {},
   "source": [
    "#### Choosing Education Level and Desired Salary as our features to predict the label of Position."
   ]
  },
  {
   "cell_type": "code",
   "execution_count": 50,
   "metadata": {},
   "outputs": [],
   "source": [
    "features = df[['Education_Level','Desired_Salary']]\n",
    "labels = df.Position"
   ]
  },
  {
   "cell_type": "markdown",
   "metadata": {},
   "source": [
    "#### Splitting our data into training and testing sets."
   ]
  },
  {
   "cell_type": "code",
   "execution_count": 51,
   "metadata": {},
   "outputs": [
    {
     "name": "stdout",
     "output_type": "stream",
     "text": [
      "(612, 2) (205, 2) (612,) (205,)\n"
     ]
    }
   ],
   "source": [
    "X_train, X_test, Y_train, Y_test = train_test_split(features, labels, random_state=1)\n",
    "print(X_train.shape, X_test.shape, Y_train.shape, Y_test.shape)"
   ]
  },
  {
   "cell_type": "markdown",
   "metadata": {},
   "source": [
    "#### Vectorizing our Education Level column along with stacking our two features into one combined variable."
   ]
  },
  {
   "cell_type": "code",
   "execution_count": 52,
   "metadata": {},
   "outputs": [],
   "source": [
    "v = CountVectorizer()\n",
    "X_train_el = v.fit_transform(X_train.Education_Level.values.astype('str'))\n",
    "train_salary = X_train.Desired_Salary.values[:,None]\n",
    "X_train_cb = hstack((X_train_el, train_salary))"
   ]
  },
  {
   "cell_type": "code",
   "execution_count": 53,
   "metadata": {},
   "outputs": [],
   "source": [
    "X_test_el = v.fit_transform(X_test.Education_Level.values.astype('str'))\n",
    "test_salary = X_test.Desired_Salary.values[:,None]\n",
    "X_test_cb = hstack((X_test_el, test_salary))"
   ]
  },
  {
   "cell_type": "markdown",
   "metadata": {},
   "source": [
    "#### Fitting the model:"
   ]
  },
  {
   "cell_type": "code",
   "execution_count": 54,
   "metadata": {},
   "outputs": [
    {
     "data": {
      "text/plain": [
       "LogisticRegression(C=1.0, class_weight=None, dual=False, fit_intercept=True,\n",
       "          intercept_scaling=1, max_iter=100, multi_class='ovr', n_jobs=1,\n",
       "          penalty='l2', random_state=None, solver='liblinear', tol=0.0001,\n",
       "          verbose=0, warm_start=False)"
      ]
     },
     "execution_count": 54,
     "metadata": {},
     "output_type": "execute_result"
    }
   ],
   "source": [
    "lgr = linear_model.LogisticRegression()\n",
    "lgr.fit(X_train_cb,Y_train)"
   ]
  },
  {
   "cell_type": "markdown",
   "metadata": {},
   "source": [
    "#### Accuracy:"
   ]
  },
  {
   "cell_type": "code",
   "execution_count": 55,
   "metadata": {},
   "outputs": [
    {
     "name": "stdout",
     "output_type": "stream",
     "text": [
      "Training accuracy: 0.527778\n",
      "Testing accuracy: 0.507317\n"
     ]
    }
   ],
   "source": [
    "print(\"Training accuracy: %0.6f\" % accuracy_score(Y_train, lgr.predict(X_train_cb)))\n",
    "print(\"Testing accuracy: %0.6f\" % accuracy_score(Y_test, lgr.predict(X_test_cb)))"
   ]
  },
  {
   "cell_type": "markdown",
   "metadata": {},
   "source": [
    "**This logistic regression could be interesting to our stakeholder.  Our initial model is not fine tuned to fit the data well enough yet, but if fixed up sufficiently it could be very interesting to have high accuracy in predicting position based on desired salary and education level.** "
   ]
  },
  {
   "cell_type": "markdown",
   "metadata": {},
   "source": [
    "## Conclusion:"
   ]
  },
  {
   "cell_type": "markdown",
   "metadata": {},
   "source": [
    "Ultimately we feel that we could not answer Academics original question of \"why Doctoral candidates were not getting hire or dropping out of the interview process.  We feel this is due in large part to not having access to WHY a candidate was not a fit.  However, we were able to provide Academics with other information we feel will be important to the HR Manager such as the large spike of applicants during the month of August and how their pay stacks up against other cities around the US."
   ]
  },
  {
   "cell_type": "markdown",
   "metadata": {},
   "source": [
    "## Bias:"
   ]
  },
  {
   "cell_type": "markdown",
   "metadata": {},
   "source": [
    "In terms of bias, the research analyst position was our main culprit.  This position overwhelms our dataset and skews our data as a result.  It is also very broad and encompasses a variety of skill sets. An analyst role like this one is going to differ greatly from company to company. It would be doable, but difficult, to make an apples to apples comparison across industries, which might affect salary and give us more insight to answer the original questions from our Stakeholder."
   ]
  },
  {
   "cell_type": "markdown",
   "metadata": {},
   "source": [
    "## Next Steps for Academics:"
   ]
  },
  {
   "cell_type": "markdown",
   "metadata": {},
   "source": [
    "We feel that if they truly want to have more insight into their hiring analytics, they are going to have to have a much more powerful applicant tracking system in place that is able to figure out a lot of these types of analytics for them or they are going to have to do some of this analysis in-house where confidential information can be more easily shared.  It would have also helped us to have a wider range of applications, which the company surely has.  We are hoping they can build off of what we have found out through our given resources and expound upon it."
   ]
  },
  {
   "cell_type": "code",
   "execution_count": null,
   "metadata": {},
   "outputs": [],
   "source": []
  }
 ],
 "metadata": {
  "kernelspec": {
   "display_name": "Python 3",
   "language": "python",
   "name": "python3"
  },
  "language_info": {
   "codemirror_mode": {
    "name": "ipython",
    "version": 3
   },
   "file_extension": ".py",
   "mimetype": "text/x-python",
   "name": "python",
   "nbconvert_exporter": "python",
   "pygments_lexer": "ipython3",
   "version": "3.7.2"
  }
 },
 "nbformat": 4,
 "nbformat_minor": 2
}
